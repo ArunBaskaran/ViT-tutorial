{
 "cells": [
  {
   "cell_type": "markdown",
   "id": "2c93b3d6-d1f8-4c36-8671-53a291d150a0",
   "metadata": {},
   "source": [
    "# Regression Style Classification with Images"
   ]
  },
  {
   "cell_type": "markdown",
   "id": "4913a3eb-5a4f-4f9b-9ab9-d20a5b327b0a",
   "metadata": {},
   "source": [
    "### Import Required Packages"
   ]
  },
  {
   "cell_type": "code",
   "execution_count": null,
   "id": "91000940-ab4b-4d1b-975b-45f530d27c98",
   "metadata": {},
   "outputs": [],
   "source": [
    "import pandas as pd\n",
    "import numpy as np\n",
    "!pip install pycaret\n",
    "from pycaret.classification import *\n",
    "from sklearn.model_selection import RepeatedKFold\n",
    "from sklearn.metrics import confusion_matrix\n",
    "import matplotlib.pyplot as plt\n",
    "import seaborn as sns\n",
    "import tensorflow as tf\n",
    "from tensorflow import keras\n",
    "%matplotlib inline"
   ]
  },
  {
   "cell_type": "markdown",
   "id": "79c6c773-0740-4afa-a5cb-ea8f821c918e",
   "metadata": {},
   "source": [
    "### Read in the Data"
   ]
  },
  {
   "cell_type": "code",
   "execution_count": null,
   "id": "d5a7189b-59bf-4205-812e-a3baa5ff73e1",
   "metadata": {},
   "outputs": [],
   "source": [
    "labels = ['plane', 'car', 'bird', 'cat', 'deer', 'dog', 'frog', 'horse', 'ship', 'truck']\n",
    "num_classes = len(labels)\n",
    "(x_train, y_train), (x_test, y_test) = keras.datasets.cifar10.load_data()"
   ]
  },
  {
   "cell_type": "markdown",
   "id": "1db5d833-375d-4e03-abd1-4eb8ec7033a4",
   "metadata": {},
   "source": [
    "### Display Data Examples"
   ]
  },
  {
   "cell_type": "code",
   "execution_count": null,
   "id": "046b5f40-cdac-407d-acec-fc2e66b57573",
   "metadata": {},
   "outputs": [],
   "source": [
    "y_train_df = pd.DataFrame(y_train)\n",
    "y_train_df.reset_index(inplace = True, drop = False)\n",
    "y_train_df.columns = ['index', 'label']\n",
    "\n",
    "## Extract first example for each category\n",
    "examples = y_train_df.groupby('label').first()\n",
    "examples.reset_index(inplace = True, drop = False)"
   ]
  },
  {
   "cell_type": "code",
   "execution_count": null,
   "id": "68471947-75c6-4215-a36b-2f1aa74fd765",
   "metadata": {},
   "outputs": [],
   "source": [
    "#Display the example images in a grid\n",
    "fig, ax = plt.subplots(2, 5)\n",
    "for i in range(examples.shape[0]):\n",
    "    if (i - 5) < 0:\n",
    "        y = 0\n",
    "    else:\n",
    "        y = 1\n",
    "    x = i % 5\n",
    "\n",
    "    ax[y, x].imshow(x_train[examples['index'][i], :, :, :])\n",
    "    ax[y, x].set_title(labels[i])\n",
    "    ax[y, x].axis('off')\n",
    "fig.tight_layout()"
   ]
  },
  {
   "cell_type": "markdown",
   "id": "16d409c0-3b23-43d4-ae76-0ce839005326",
   "metadata": {},
   "source": [
    "### Normalize and Reshape the Data"
   ]
  },
  {
   "cell_type": "code",
   "execution_count": null,
   "id": "85ca0a76-67b1-4aaf-8927-a68ad883e4ff",
   "metadata": {},
   "outputs": [],
   "source": [
    "x_train = np.reshape(x_train, (x_train.shape[0], 32 * 32 * 3))\n",
    "x_train = pd.DataFrame(x_train.astype('float32') / 255)\n",
    "x_test = np.reshape(x_test, (x_test.shape[0], 32 * 32 * 3))\n",
    "x_test = pd.DataFrame(x_test.astype('float32') / 255)\n",
    "\n",
    "# Convert labels from integers to specific label text\n",
    "y_train = pd.DataFrame(y_train)\n",
    "y_train['label'] = ''\n",
    "for i in range(y_train.shape[0]):\n",
    "    y_train['label'][i] = labels[y_train.iloc[i,0]]\n",
    "y_test = pd.DataFrame(y_test)\n",
    "y_test['label'] = ''\n",
    "for i in range(y_test.shape[0]):\n",
    "    y_test['label'][i] = labels[y_test.iloc[i,0]]\n",
    "\n",
    "# Add response column to predictor matrix\n",
    "x_train['label'] = y_train['label']\n",
    "x_test['label'] = y_test['label']"
   ]
  },
  {
   "cell_type": "markdown",
   "id": "25ca117d-f994-44e7-a959-487531405b01",
   "metadata": {},
   "source": [
    "### Train Models with PyCaret\n",
    "##### PyCaret is a package that allows for easyfitting of multiple models"
   ]
  },
  {
   "cell_type": "code",
   "execution_count": null,
   "id": "fb9c165f-2c9d-48f7-b83f-10d325841c96",
   "metadata": {},
   "outputs": [],
   "source": [
    "# Specify training parameters\n",
    "s = setup(data=x_train, # training data\n",
    "          target='label', # label column in training data\n",
    "          test_data=x_test, # test data\n",
    "          index=False,\n",
    "          ordinal_features=None, # specify feature type if desired\n",
    "          numeric_features=None, # specify feature type if desired\n",
    "          categorical_features=None, # specify feature type if desired\n",
    "          preprocess=True,\n",
    "          max_encoding_ohe=25, # default. one-hot-encoding\n",
    "          polynomial_features=False, # create x1^2, x1*x2, ...\n",
    "          polynomial_degree=2,\n",
    "          normalize=True,\n",
    "          normalize_method='zscore',\n",
    "          pca=False, # Principal component preprocessing\n",
    "          pca_method='linear',\n",
    "          use_gpu=True, # False if GPU is not available\n",
    "          session_id=13)"
   ]
  },
  {
   "cell_type": "code",
   "execution_count": null,
   "id": "38312fa3-da99-4a0f-bc3e-8a1e5c7f4873",
   "metadata": {},
   "outputs": [],
   "source": [
    "# View available models\n",
    "models()"
   ]
  },
  {
   "cell_type": "markdown",
   "id": "a014191e-2350-4eb1-80e2-a47a30a1807b",
   "metadata": {},
   "source": [
    "### The following cell is slow; it is fitting multiple models with repeated k-fold validation"
   ]
  },
  {
   "cell_type": "code",
   "execution_count": null,
   "id": "272f7cd5-1068-47f4-9634-3d92ccaf14ad",
   "metadata": {},
   "outputs": [],
   "source": [
    "# Specify k-fold cross-validation and run the desired models from the above list\n",
    "rkf = RepeatedKFold(n_splits=5, n_repeats=1, random_state=13)\n",
    "\n",
    "best = compare_models(include = ['lr', 'knn', 'nb', 'dt', 'svm', 'mlp', 'ridge', 'rf'],\n",
    "                      fold=rkf,\n",
    "                      cross_validation=False,\n",
    "                      sort='Accuracy',\n",
    "                      n_select=3)"
   ]
  },
  {
   "cell_type": "code",
   "execution_count": null,
   "id": "c73f3e0e-c40b-4f90-88fd-e5b020f0623d",
   "metadata": {},
   "outputs": [],
   "source": [
    "# Display confusion matrix for the best model\n",
    "preds = predict_model(best[0], x_test)\n",
    "CM_test = confusion_matrix(y_test['label'], preds['prediction_label'])\n",
    "fig = sns.heatmap(CM_test, annot = True, fmt = 'g')\n",
    "fig.set(xlabel='Prediction', ylabel='Truth', xticklabels=labels, title = 'Test Confusion Matrix')\n",
    "fig.set_yticklabels(labels, va='center')\n",
    "plt.show()"
   ]
  },
  {
   "cell_type": "markdown",
   "id": "68280da2-6ff4-40e5-8247-9d05bf48e546",
   "metadata": {},
   "source": [
    "# Convolutional Neural Network Classification with Images"
   ]
  },
  {
   "cell_type": "markdown",
   "id": "99a6b9fe-6d72-4ef6-a08a-6f93d391f5b5",
   "metadata": {},
   "source": [
    "### Load Additional Packages"
   ]
  },
  {
   "cell_type": "code",
   "execution_count": null,
   "id": "31a41ae1-f193-421b-9114-0260e0688162",
   "metadata": {},
   "outputs": [],
   "source": [
    "from tensorflow.keras.utils import to_categorical"
   ]
  },
  {
   "cell_type": "markdown",
   "id": "c0c90876-4e27-4b5c-bce0-c7510798ed8a",
   "metadata": {},
   "source": [
    "### Read in the Data, Normalize, Restructure"
   ]
  },
  {
   "cell_type": "code",
   "execution_count": null,
   "id": "9f4a1b16-8dcc-41c1-a836-e50759b49d75",
   "metadata": {},
   "outputs": [],
   "source": [
    "labels = ['plane', 'car', 'bird', 'cat', 'deer', 'dog', 'frog', 'horse', 'ship', 'truck']\n",
    "num_classes = len(labels)\n",
    "(x_train, y_train), (x_test, y_test) = keras.datasets.cifar10.load_data()\n",
    "x_train = x_train / 255\n",
    "x_test = x_test / 255\n",
    "y_train = to_categorical(y_train)\n",
    "y_test = to_categorical(y_test)"
   ]
  },
  {
   "cell_type": "markdown",
   "id": "19b9c7d6-2f06-449d-a00d-a2c84c023763",
   "metadata": {},
   "source": [
    "### Train a Basic CNN"
   ]
  },
  {
   "cell_type": "code",
   "execution_count": null,
   "id": "1b133cfa-50d3-49a0-8d9a-c4713f7255cc",
   "metadata": {},
   "outputs": [],
   "source": [
    "# Model Definition: 2 convolutional layers with max pooling followed by 2 dense layers with dropout\n",
    "# The first to lines can be removed if not training on mulitple GPUs\n",
    "mirrored_strategy = tf.distribute.MirroredStrategy(cross_device_ops=tf.distribute.HierarchicalCopyAllReduce())\n",
    "with mirrored_strategy.scope():\n",
    "    parallel_model = tf.keras.models.Sequential()\n",
    "    parallel_model.add(tf.keras.layers.Conv2D(32, (3, 3), activation = 'relu', input_shape = (32, 32, 3)))\n",
    "    parallel_model.add(tf.keras.layers.MaxPooling2D((2, 2)))\n",
    "    parallel_model.add(tf.keras.layers.Conv2D(64, (3, 3), activation = 'relu'))\n",
    "    parallel_model.add(tf.keras.layers.MaxPooling2D((2, 2)))\n",
    "    parallel_model.add(tf.keras.layers.Flatten())\n",
    "    parallel_model.add(tf.keras.layers.Dense(128, activation = 'relu'))\n",
    "    parallel_model.add(tf.keras.layers.Dropout(0.3))\n",
    "    parallel_model.add(tf.keras.layers.Dense(len(labels), activation = 'softmax'))"
   ]
  },
  {
   "cell_type": "code",
   "execution_count": null,
   "id": "4939cd2a-481f-49ba-8d4b-c744dc088398",
   "metadata": {},
   "outputs": [],
   "source": [
    "# Define the optimzer, loss, and metric to track during training\n",
    "parallel_model.compile(optimizer = tf.keras.optimizers.Adamax(learning_rate = 0.0001),\n",
    "                       loss = 'categorical_crossentropy',\n",
    "                       metrics = ['acc'])"
   ]
  },
  {
   "cell_type": "code",
   "execution_count": null,
   "id": "127435c5-c4d8-4cbf-aa67-4947204ec461",
   "metadata": {},
   "outputs": [],
   "source": [
    "# Train the model\n",
    "history = parallel_model.fit(x_train, y_train, epochs=10)"
   ]
  },
  {
   "cell_type": "code",
   "execution_count": null,
   "id": "131a402d-cecb-47c1-be8e-74cbb6040fda",
   "metadata": {},
   "outputs": [],
   "source": [
    "# Evaluate performance on test data\n",
    "metrics = parallel_model.evaluate(x_test,  y_test, verbose=2)\n",
    "loss, accuracy = metrics[0], metrics[1]"
   ]
  },
  {
   "cell_type": "code",
   "execution_count": null,
   "id": "eb5cb075-942a-415a-84b5-910dd088bbc0",
   "metadata": {},
   "outputs": [],
   "source": [
    "# Generate confusion matrix on test data\n",
    "preds = pd.DataFrame(parallel_model.predict(x_test))\n",
    "preds = pd.DataFrame(preds.idxmax(axis=1))\n",
    "preds.columns = ['index']\n",
    "preds['label'] = preds['index'].apply(lambda x: labels[x])\n",
    "y_test = pd.DataFrame(pd.DataFrame(y_test).idxmax(axis = 1))\n",
    "y_test.columns = ['index']\n",
    "y_test['label'] = y_test['index'].apply(lambda x: labels[x])\n",
    "\n",
    "\n",
    "fig = sns.heatmap(confusion_matrix(y_true = y_test['label'], y_pred = preds['label']), annot = True, fmt = 'g')\n",
    "fig.set(xlabel = 'Prediction', ylabel = 'Truth', xticklabels = labels, title = 'Test Confusion Matrix')\n",
    "fig.set_yticklabels(labels, va = 'center')"
   ]
  },
  {
   "cell_type": "code",
   "execution_count": null,
   "id": "658d0a2f-3364-4b09-b65a-00f937dc83dc",
   "metadata": {},
   "outputs": [],
   "source": [
    "# Saliency mapping\n",
    "img1 = x_train[examples['index'][0], :, :, :]\n",
    "img = np.expand_dims(img1, axis=0)\n",
    "y_pred = parallel_model.predict(img)\n",
    "images = tf.Variable(img, dtype=float)\n",
    "\n",
    "with tf.GradientTape() as tape:\n",
    "    pred = parallel_model(images, training=False)\n",
    "    class_idxs_sorted = np.argsort(pred.numpy().flatten())[::-1]\n",
    "    loss = pred[0][class_idxs_sorted[0]]\n",
    "\n",
    "grads = tape.gradient(loss, images)\n",
    "\n",
    "dgrad_abs = tf.math.abs(grads)\n",
    "dgrad_max_ = np.max(dgrad_abs, axis=3)[0]\n",
    "# normalize to range between 0 and 1\n",
    "arr_min, arr_max = np.min(dgrad_max_), np.max(dgrad_max_)\n",
    "grad_eval = (dgrad_max_ - arr_min) / (arr_max - arr_min + 1e-18)\n",
    "grad_eval[grad_eval < np.percentile(0.4, grad_eval)] = np.nan\n",
    "\n",
    "fig, ax = plt.subplots(1, 2, figsize=(8, 8))\n",
    "ax[0].set_title('Original')\n",
    "ax[0].imshow(img1)\n",
    "ax[0].axis('off')\n",
    "ax[1].set_title('Saliency Map')\n",
    "ax[1].imshow(img1)\n",
    "ax[1].imshow(grad_eval, cmap='Reds')\n",
    "ax[1].axis('off')\n",
    "plt.tight_layout()"
   ]
  }
 ],
 "metadata": {
  "kernelspec": {
   "display_name": "Python 3 (ipykernel)",
   "language": "python",
   "name": "python3"
  },
  "language_info": {
   "codemirror_mode": {
    "name": "ipython",
    "version": 3
   },
   "file_extension": ".py",
   "mimetype": "text/x-python",
   "name": "python",
   "nbconvert_exporter": "python",
   "pygments_lexer": "ipython3",
   "version": "3.10.9"
  }
 },
 "nbformat": 4,
 "nbformat_minor": 5
}
